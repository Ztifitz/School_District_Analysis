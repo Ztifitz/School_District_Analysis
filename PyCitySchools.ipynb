{
 "cells": [
  {
   "cell_type": "code",
   "execution_count": 2,
   "id": "3291656b",
   "metadata": {},
   "outputs": [
    {
     "data": {
      "text/plain": [
       "Student ID        int64\n",
       "student_name     object\n",
       "gender           object\n",
       "grade            object\n",
       "school_name      object\n",
       "reading_score     int64\n",
       "math_score        int64\n",
       "dtype: object"
      ]
     },
     "execution_count": 2,
     "metadata": {},
     "output_type": "execute_result"
    }
   ],
   "source": [
    "# Add the Pandas dependency.\n",
    "import pandas as pd\n",
    "\n",
    "# Files to load\n",
    "school_data_to_load = \"Resources/schools_complete.csv\"\n",
    "student_data_to_load = \"Resources/students_complete.csv\"\n",
    "\n",
    "# Read the school data file and store it in a Pandas DataFrame.\n",
    "school_data_df = pd.read_csv(school_data_to_load)\n",
    "school_data_df\n",
    "\n",
    "# Read the student data file and store it in a Pandas DataFrame.\n",
    "student_data_df = pd.read_csv(student_data_to_load)\n",
    "student_data_df.head()\n",
    "\n",
    "# Determine if there are any missing values in the school data.\n",
    "#school_data_df.count()\n",
    "#student_data_df.count()\n",
    "\n",
    "# Determine data types for the school DataFrame.\n",
    "#school_data_df.dtypes\n",
    "# Determine data types for the student DataFrame.\n",
    "#student_data_df.dtypes\n",
    "\n",
    "\n",
    "\n",
    "\n",
    "\n",
    "#Top 5 and bottom 5 performing schools, based on the overall passing rate"
   ]
  },
  {
   "cell_type": "code",
   "execution_count": null,
   "id": "43174abd",
   "metadata": {},
   "outputs": [],
   "source": [
    "#The average math score recieved by students in each grade level at each school"
   ]
  },
  {
   "cell_type": "code",
   "execution_count": null,
   "id": "d0b87cfb",
   "metadata": {},
   "outputs": [],
   "source": [
    "#The average reading score received by students in each grade level at each school"
   ]
  },
  {
   "cell_type": "code",
   "execution_count": null,
   "id": "d7ce49ac",
   "metadata": {},
   "outputs": [],
   "source": [
    "#School performance based on the budget per student"
   ]
  },
  {
   "cell_type": "code",
   "execution_count": null,
   "id": "5acc77ad",
   "metadata": {},
   "outputs": [],
   "source": [
    "#School performance based on the school size "
   ]
  },
  {
   "cell_type": "code",
   "execution_count": null,
   "id": "8e78b4c5",
   "metadata": {},
   "outputs": [],
   "source": [
    "#School performance based on the type of school"
   ]
  }
 ],
 "metadata": {
  "kernelspec": {
   "display_name": "PythonData",
   "language": "python",
   "name": "pythondata"
  },
  "language_info": {
   "codemirror_mode": {
    "name": "ipython",
    "version": 3
   },
   "file_extension": ".py",
   "mimetype": "text/x-python",
   "name": "python",
   "nbconvert_exporter": "python",
   "pygments_lexer": "ipython3",
   "version": "3.9.7"
  }
 },
 "nbformat": 4,
 "nbformat_minor": 5
}
